{
 "cells": [
  {
   "cell_type": "code",
   "execution_count": 6,
   "metadata": {},
   "outputs": [
    {
     "name": "stdout",
     "output_type": "stream",
     "text": [
      "3.3.0\n"
     ]
    }
   ],
   "source": [
    "import pyspark\n",
    "print(pyspark.__version__)\n",
    "\n",
    "import logging\n",
    "from datetime import datetime\n",
    "import uuid\n",
    "import time_uuid\n",
    "\n",
    "import pandas as pd\n",
    "from cassandra.cluster import Cluster\n",
    "from pyspark.sql import SparkSession\n",
    "from pyspark.sql.functions import *\n",
    "from pyspark.sql.types import *"
   ]
  },
  {
   "cell_type": "markdown",
   "metadata": {},
   "source": [
    "## Build spark"
   ]
  },
  {
   "cell_type": "code",
   "execution_count": 7,
   "metadata": {},
   "outputs": [],
   "source": [
    "s_conn = SparkSession \\\n",
    "    .builder \\\n",
    "    .appName(\"SparkDataStreaming\") \\\n",
    "    .config(\"spark.streaming.stopGracefullyOnShutdown\", True) \\\n",
    "    .config('spark.jars.packages', \"org.apache.spark:spark-sql-kafka-0-10_2.12:3.3.0,\"\n",
    "                                \"com.datastax.spark:spark-cassandra-connector-assembly_2.12:3.3.0\") \\\n",
    "    .config(\"spark.sql.shuffle.partitions\", 4) \\\n",
    "    .config('spark.cassandra.connection.host', 'host.docker.internal') \\\n",
    "    .getOrCreate()"
   ]
  },
  {
   "cell_type": "markdown",
   "metadata": {},
   "source": [
    "## Connect to kafka"
   ]
  },
  {
   "cell_type": "code",
   "execution_count": 8,
   "metadata": {},
   "outputs": [],
   "source": [
    "spark_df = s_conn.readStream \\\n",
    "    .format('kafka') \\\n",
    "    .option('kafka.bootstrap.servers', 'kafka:29092') \\\n",
    "    .option('subscribe', 'user_created') \\\n",
    "    .option('startingOffsets', 'earliest') \\\n",
    "    .load()"
   ]
  },
  {
   "cell_type": "code",
   "execution_count": 13,
   "metadata": {},
   "outputs": [
    {
     "name": "stdout",
     "output_type": "stream",
     "text": [
      "root\n",
      " |-- key: binary (nullable = true)\n",
      " |-- value: binary (nullable = true)\n",
      " |-- topic: string (nullable = true)\n",
      " |-- partition: integer (nullable = true)\n",
      " |-- offset: long (nullable = true)\n",
      " |-- timestamp: timestamp (nullable = true)\n",
      " |-- timestampType: integer (nullable = true)\n",
      "\n",
      "+----+----------------------------------------------------------------------------------------------------------------------------------------------------------------------------------------------------------------------------------------------------------------------------------------------------------------------------------------------------------------------------------------------------------------------------------------------------------------------------------------------------------------------------------------------------------------------------------------------------------------------------------------------------------------------------------------------------------------------------------------------------------------------------------------------------------------------------------------------------------------------------------------------------------------------------------------------------------------------------------------------------------------------------------------------------------------------------------------------------------------------------------------------------------------------------------------------------------------------------------------------------------------------------------------------------------------------------------------------------------------------------------------------------------------------------------+------------+---------+------+-----------------------+-------------+\n",
      "|key |value                                                                                                                                                                                                                                                                                                                                                                                                                                                                                                                                                                                                                                                                                                                                                                                                                                                                                                                                                                                                                                                                                                                                                                                                                                                                                                                                                                                                                             |topic       |partition|offset|timestamp              |timestampType|\n",
      "+----+----------------------------------------------------------------------------------------------------------------------------------------------------------------------------------------------------------------------------------------------------------------------------------------------------------------------------------------------------------------------------------------------------------------------------------------------------------------------------------------------------------------------------------------------------------------------------------------------------------------------------------------------------------------------------------------------------------------------------------------------------------------------------------------------------------------------------------------------------------------------------------------------------------------------------------------------------------------------------------------------------------------------------------------------------------------------------------------------------------------------------------------------------------------------------------------------------------------------------------------------------------------------------------------------------------------------------------------------------------------------------------------------------------------------------------+------------+---------+------+-----------------------+-------------+\n",
      "|null|[7B 22 69 64 22 3A 20 22 38 65 37 39 39 66 65 61 2D 38 33 39 61 2D 31 31 65 65 2D 61 61 39 65 2D 30 32 34 32 61 63 31 32 30 30 30 32 22 2C 20 22 66 69 72 73 74 5F 6E 61 6D 65 22 3A 20 22 4A 75 64 69 74 68 22 2C 20 22 6C 61 73 74 5F 6E 61 6D 65 22 3A 20 22 44 61 6E 69 65 6C 73 22 2C 20 22 67 65 6E 64 65 72 22 3A 20 22 66 65 6D 61 6C 65 22 2C 20 22 61 64 64 72 65 73 73 22 3A 20 22 38 37 38 31 20 4E 6F 76 61 72 61 20 41 76 65 6E 75 65 2C 20 45 6E 6E 69 73 63 6F 72 74 68 79 2C 20 53 6F 75 74 68 20 44 75 62 6C 69 6E 2C 20 49 72 65 6C 61 6E 64 22 2C 20 22 70 6F 73 74 5F 63 6F 64 65 22 3A 20 33 39 37 39 38 2C 20 22 65 6D 61 69 6C 22 3A 20 22 6A 75 64 69 74 68 2E 64 61 6E 69 65 6C 73 40 65 78 61 6D 70 6C 65 2E 63 6F 6D 22 2C 20 22 75 73 65 72 6E 61 6D 65 22 3A 20 22 67 6F 6C 64 65 6E 67 6F 72 69 6C 6C 61 32 36 39 22 2C 20 22 64 6F 62 22 3A 20 22 31 39 35 32 2D 30 38 2D 30 36 54 32 31 3A 34 38 3A 35 39 2E 38 36 35 5A 22 2C 20 22 72 65 67 69 73 74 65 72 65 64 5F 64 61 74 65 22 3A 20 22 32 30 31 37 2D 31 32 2D 31 34 54 32 33 3A 35 34 3A 33 32 2E 32 33 36 5A 22 2C 20 22 70 68 6F 6E 65 22 3A 20 22 30 34 31 2D 36 35 36 2D 34 30 33 34 22 2C 20 22 70 69 63 74 75 72 65 22 3A 20 22 68 74 74 70 73 3A 2F 2F 72 61 6E 64 6F 6D 75 73 65 72 2E 6D 65 2F 61 70 69 2F 70 6F 72 74 72 61 69 74 73 2F 6D 65 64 2F 77 6F 6D 65 6E 2F 34 34 2E 6A 70 67 22 7D]                                 |user_created|0        |0     |2023-11-15 09:37:13.36 |0            |\n",
      "|null|[7B 22 69 64 22 3A 20 22 38 65 62 33 62 35 61 34 2D 38 33 39 61 2D 31 31 65 65 2D 61 61 39 65 2D 30 32 34 32 61 63 31 32 30 30 30 32 22 2C 20 22 66 69 72 73 74 5F 6E 61 6D 65 22 3A 20 22 45 67 65 22 2C 20 22 6C 61 73 74 5F 6E 61 6D 65 22 3A 20 22 5C 75 30 30 64 36 7A 62 65 79 22 2C 20 22 67 65 6E 64 65 72 22 3A 20 22 66 65 6D 61 6C 65 22 2C 20 22 61 64 64 72 65 73 73 22 3A 20 22 38 30 37 20 44 6F 6B 74 6F 72 6C 61 72 20 43 64 2C 20 4B 5C 75 30 31 33 31 72 6B 6C 61 72 65 6C 69 2C 20 48 61 74 61 79 2C 20 54 75 72 6B 65 79 22 2C 20 22 70 6F 73 74 5F 63 6F 64 65 22 3A 20 39 39 31 35 31 2C 20 22 65 6D 61 69 6C 22 3A 20 22 65 67 65 2E 6F 7A 62 65 79 40 65 78 61 6D 70 6C 65 2E 63 6F 6D 22 2C 20 22 75 73 65 72 6E 61 6D 65 22 3A 20 22 73 61 64 6F 73 74 72 69 63 68 36 35 39 22 2C 20 22 64 6F 62 22 3A 20 22 31 39 34 35 2D 30 32 2D 30 32 54 31 38 3A 31 37 3A 30 32 2E 36 38 31 5A 22 2C 20 22 72 65 67 69 73 74 65 72 65 64 5F 64 61 74 65 22 3A 20 22 32 30 31 30 2D 30 36 2D 32 31 54 30 39 3A 31 37 3A 33 36 2E 34 38 35 5A 22 2C 20 22 70 68 6F 6E 65 22 3A 20 22 28 31 35 31 29 2D 30 33 35 2D 30 34 39 39 22 2C 20 22 70 69 63 74 75 72 65 22 3A 20 22 68 74 74 70 73 3A 2F 2F 72 61 6E 64 6F 6D 75 73 65 72 2E 6D 65 2F 61 70 69 2F 70 6F 72 74 72 61 69 74 73 2F 6D 65 64 2F 77 6F 6D 65 6E 2F 38 31 2E 6A 70 67 22 7D]                                                                     |user_created|0        |1     |2023-11-15 09:37:13.741|0            |\n",
      "|null|[7B 22 69 64 22 3A 20 22 38 65 65 62 65 64 34 38 2D 38 33 39 61 2D 31 31 65 65 2D 61 61 39 65 2D 30 32 34 32 61 63 31 32 30 30 30 32 22 2C 20 22 66 69 72 73 74 5F 6E 61 6D 65 22 3A 20 22 42 72 61 6E 6B 61 22 2C 20 22 6C 61 73 74 5F 6E 61 6D 65 22 3A 20 22 53 70 61 73 69 5C 75 30 31 30 37 22 2C 20 22 67 65 6E 64 65 72 22 3A 20 22 66 65 6D 61 6C 65 22 2C 20 22 61 64 64 72 65 73 73 22 3A 20 22 31 39 31 37 20 50 6F 72 6F 64 69 63 65 20 53 74 61 6E 6B 6F 76 69 5C 75 30 31 30 37 2C 20 50 6C 61 6E 64 69 5C 75 30 31 36 31 74 65 2C 20 4D 61 5C 75 30 31 30 64 76 61 2C 20 53 65 72 62 69 61 22 2C 20 22 70 6F 73 74 5F 63 6F 64 65 22 3A 20 37 38 37 39 34 2C 20 22 65 6D 61 69 6C 22 3A 20 22 62 72 61 6E 6B 61 2E 73 70 61 73 69 63 40 65 78 61 6D 70 6C 65 2E 63 6F 6D 22 2C 20 22 75 73 65 72 6E 61 6D 65 22 3A 20 22 73 6D 61 6C 6C 6C 65 6F 70 61 72 64 32 39 31 22 2C 20 22 64 6F 62 22 3A 20 22 31 39 34 37 2D 30 31 2D 31 31 54 30 35 3A 33 33 3A 33 39 2E 33 30 30 5A 22 2C 20 22 72 65 67 69 73 74 65 72 65 64 5F 64 61 74 65 22 3A 20 22 32 30 31 37 2D 30 33 2D 30 37 54 30 39 3A 31 37 3A 33 33 2E 35 36 33 5A 22 2C 20 22 70 68 6F 6E 65 22 3A 20 22 30 31 38 2D 39 36 34 38 2D 34 32 39 22 2C 20 22 70 69 63 74 75 72 65 22 3A 20 22 68 74 74 70 73 3A 2F 2F 72 61 6E 64 6F 6D 75 73 65 72 2E 6D 65 2F 61 70 69 2F 70 6F 72 74 72 61 69 74 73 2F 6D 65 64 2F 77 6F 6D 65 6E 2F 33 2E 6A 70 67 22 7D]|user_created|0        |2     |2023-11-15 09:37:14.109|0            |\n",
      "|null|[7B 22 69 64 22 3A 20 22 38 66 32 33 32 32 39 61 2D 38 33 39 61 2D 31 31 65 65 2D 61 61 39 65 2D 30 32 34 32 61 63 31 32 30 30 30 32 22 2C 20 22 66 69 72 73 74 5F 6E 61 6D 65 22 3A 20 22 4D 61 72 69 61 22 2C 20 22 6C 61 73 74 5F 6E 61 6D 65 22 3A 20 22 57 61 6C 6B 65 72 22 2C 20 22 67 65 6E 64 65 72 22 3A 20 22 66 65 6D 61 6C 65 22 2C 20 22 61 64 64 72 65 73 73 22 3A 20 22 37 36 34 30 20 57 61 69 2D 49 74 69 20 52 6F 61 64 2C 20 57 65 6C 6C 69 6E 67 74 6F 6E 2C 20 53 6F 75 74 68 6C 61 6E 64 2C 20 4E 65 77 20 5A 65 61 6C 61 6E 64 22 2C 20 22 70 6F 73 74 5F 63 6F 64 65 22 3A 20 31 33 30 31 30 2C 20 22 65 6D 61 69 6C 22 3A 20 22 6D 61 72 69 61 2E 77 61 6C 6B 65 72 40 65 78 61 6D 70 6C 65 2E 63 6F 6D 22 2C 20 22 75 73 65 72 6E 61 6D 65 22 3A 20 22 67 6F 6C 64 65 6E 6D 6F 75 73 65 34 34 37 22 2C 20 22 64 6F 62 22 3A 20 22 31 39 38 39 2D 31 30 2D 32 31 54 30 37 3A 33 39 3A 35 35 2E 33 37 34 5A 22 2C 20 22 72 65 67 69 73 74 65 72 65 64 5F 64 61 74 65 22 3A 20 22 32 30 31 32 2D 31 30 2D 32 37 54 32 31 3A 34 30 3A 31 34 2E 30 34 35 5A 22 2C 20 22 70 68 6F 6E 65 22 3A 20 22 28 33 34 30 29 2D 34 36 35 2D 39 38 38 32 22 2C 20 22 70 69 63 74 75 72 65 22 3A 20 22 68 74 74 70 73 3A 2F 2F 72 61 6E 64 6F 6D 75 73 65 72 2E 6D 65 2F 61 70 69 2F 70 6F 72 74 72 61 69 74 73 2F 6D 65 64 2F 77 6F 6D 65 6E 2F 37 35 2E 6A 70 67 22 7D]                                                |user_created|0        |3     |2023-11-15 09:37:14.471|0            |\n",
      "|null|[7B 22 69 64 22 3A 20 22 38 66 35 39 31 36 37 30 2D 38 33 39 61 2D 31 31 65 65 2D 61 61 39 65 2D 30 32 34 32 61 63 31 32 30 30 30 32 22 2C 20 22 66 69 72 73 74 5F 6E 61 6D 65 22 3A 20 22 45 76 61 72 69 73 74 6F 22 2C 20 22 6C 61 73 74 5F 6E 61 6D 65 22 3A 20 22 56 69 61 6E 61 22 2C 20 22 67 65 6E 64 65 72 22 3A 20 22 6D 61 6C 65 22 2C 20 22 61 64 64 72 65 73 73 22 3A 20 22 34 36 34 31 20 52 75 61 20 53 61 6E 74 61 20 4C 75 7A 69 61 20 2C 20 50 61 5C 75 30 30 65 37 6F 20 64 6F 20 4C 75 6D 69 61 72 2C 20 4D 69 6E 61 73 20 47 65 72 61 69 73 2C 20 42 72 61 7A 69 6C 22 2C 20 22 70 6F 73 74 5F 63 6F 64 65 22 3A 20 31 32 38 30 33 2C 20 22 65 6D 61 69 6C 22 3A 20 22 65 76 61 72 69 73 74 6F 2E 76 69 61 6E 61 40 65 78 61 6D 70 6C 65 2E 63 6F 6D 22 2C 20 22 75 73 65 72 6E 61 6D 65 22 3A 20 22 6C 61 7A 79 64 75 63 6B 39 38 38 22 2C 20 22 64 6F 62 22 3A 20 22 31 39 37 31 2D 30 35 2D 32 34 54 31 32 3A 33 39 3A 30 32 2E 32 36 38 5A 22 2C 20 22 72 65 67 69 73 74 65 72 65 64 5F 64 61 74 65 22 3A 20 22 32 30 30 35 2D 31 32 2D 31 32 54 30 32 3A 33 33 3A 35 32 2E 33 35 38 5A 22 2C 20 22 70 68 6F 6E 65 22 3A 20 22 28 36 37 29 20 39 30 39 33 2D 35 31 35 39 22 2C 20 22 70 69 63 74 75 72 65 22 3A 20 22 68 74 74 70 73 3A 2F 2F 72 61 6E 64 6F 6D 75 73 65 72 2E 6D 65 2F 61 70 69 2F 70 6F 72 74 72 61 69 74 73 2F 6D 65 64 2F 6D 65 6E 2F 31 30 2E 6A 70 67 22 7D]                        |user_created|0        |4     |2023-11-15 09:37:14.824|0            |\n",
      "+----+----------------------------------------------------------------------------------------------------------------------------------------------------------------------------------------------------------------------------------------------------------------------------------------------------------------------------------------------------------------------------------------------------------------------------------------------------------------------------------------------------------------------------------------------------------------------------------------------------------------------------------------------------------------------------------------------------------------------------------------------------------------------------------------------------------------------------------------------------------------------------------------------------------------------------------------------------------------------------------------------------------------------------------------------------------------------------------------------------------------------------------------------------------------------------------------------------------------------------------------------------------------------------------------------------------------------------------------------------------------------------------------------------------------------------------+------------+---------+------+-----------------------+-------------+\n",
      "only showing top 5 rows\n",
      "\n"
     ]
    }
   ],
   "source": [
    "# # Change 'readStream' to 'read' to read kafka\n",
    "# spark_df = s_conn.read\\\n",
    "#     .format('kafka') \\\n",
    "#     .option('kafka.bootstrap.servers', 'kafka:29092') \\\n",
    "#     .option('subscribe', 'user_created') \\\n",
    "#     .option('startingOffsets', 'earliest') \\\n",
    "#     .load()\n",
    "\n",
    "# spark_df.printSchema()\n",
    "# spark_df.show(5,False)"
   ]
  },
  {
   "cell_type": "markdown",
   "metadata": {},
   "source": [
    "## Create spark dataframe from kafka"
   ]
  },
  {
   "cell_type": "code",
   "execution_count": 9,
   "metadata": {},
   "outputs": [],
   "source": [
    "# Define type for each columns\n",
    "schema = StructType([\n",
    "    StructField(\"id\", StringType(), True),\n",
    "    StructField(\"first_name\", StringType(), False),\n",
    "    StructField(\"last_name\", StringType(), False),\n",
    "    StructField(\"gender\", StringType(), False),\n",
    "    StructField(\"address\", StringType(), False),\n",
    "    StructField(\"post_code\", StringType(), False),\n",
    "    StructField(\"email\", StringType(), False),\n",
    "    StructField(\"username\", StringType(), False),\n",
    "    StructField(\"dob\", TimestampType(), False),\n",
    "    StructField(\"registered_date\", TimestampType(), False),\n",
    "    StructField(\"phone\", StringType(), False),\n",
    "    StructField(\"picture\", StringType(), False)\n",
    "])\n",
    "\n",
    "# Define a function converting uuid to datetime (when records are updated)\n",
    "def convert_uuid_to_datetime(uuid_string):\n",
    "    uuid_object = uuid.UUID(uuid_string)\n",
    "    timestamp = time_uuid.TimeUUID(bytes=uuid_object.bytes).get_timestamp()\n",
    "    datetime_object = datetime.fromtimestamp(timestamp)\n",
    "    return datetime_object\n",
    "\n",
    "udf_convert_uuid_to_datetime = udf(lambda z: convert_uuid_to_datetime(z), TimestampType())\n",
    "\n",
    "# Create Pyspark dataframe from Kafka\n",
    "sel = spark_df.selectExpr(\"CAST(value AS STRING)\") \\\n",
    "    .select(from_json(col('value'), schema).alias('data')).select(\"data.*\")\\\n",
    "    .withColumn('dob', substring(col('dob'), 1, 19))\\\n",
    "    .withColumn('registered_date', substring(col('registered_date'), 1, 19))\\\n",
    "    .withColumn('update_date', udf_convert_uuid_to_datetime(col('id')))\\\n",
    "    .withColumn('update_date', substring(col('update_date'), 1, 19))"
   ]
  },
  {
   "cell_type": "code",
   "execution_count": 5,
   "metadata": {},
   "outputs": [
    {
     "data": {
      "text/html": [
       "<div>\n",
       "<style scoped>\n",
       "    .dataframe tbody tr th:only-of-type {\n",
       "        vertical-align: middle;\n",
       "    }\n",
       "\n",
       "    .dataframe tbody tr th {\n",
       "        vertical-align: top;\n",
       "    }\n",
       "\n",
       "    .dataframe thead th {\n",
       "        text-align: right;\n",
       "    }\n",
       "</style>\n",
       "<table border=\"1\" class=\"dataframe\">\n",
       "  <thead>\n",
       "    <tr style=\"text-align: right;\">\n",
       "      <th></th>\n",
       "      <th>id</th>\n",
       "      <th>first_name</th>\n",
       "      <th>last_name</th>\n",
       "      <th>gender</th>\n",
       "      <th>address</th>\n",
       "      <th>post_code</th>\n",
       "      <th>email</th>\n",
       "      <th>username</th>\n",
       "      <th>dob</th>\n",
       "      <th>registered_date</th>\n",
       "      <th>phone</th>\n",
       "      <th>picture</th>\n",
       "      <th>update_date</th>\n",
       "    </tr>\n",
       "  </thead>\n",
       "  <tbody>\n",
       "    <tr>\n",
       "      <th>0</th>\n",
       "      <td>8e799fea-839a-11ee-aa9e-0242ac120002</td>\n",
       "      <td>Judith</td>\n",
       "      <td>Daniels</td>\n",
       "      <td>female</td>\n",
       "      <td>8781 Novara Avenue, Enniscorthy, South Dublin,...</td>\n",
       "      <td>39798</td>\n",
       "      <td>judith.daniels@example.com</td>\n",
       "      <td>goldengorilla269</td>\n",
       "      <td>1952-08-06 21:48:59</td>\n",
       "      <td>2017-12-14 23:54:32</td>\n",
       "      <td>041-656-4034</td>\n",
       "      <td>https://randomuser.me/api/portraits/med/women/...</td>\n",
       "      <td>2023-11-15 09:37:13</td>\n",
       "    </tr>\n",
       "    <tr>\n",
       "      <th>1</th>\n",
       "      <td>8eb3b5a4-839a-11ee-aa9e-0242ac120002</td>\n",
       "      <td>Ege</td>\n",
       "      <td>Özbey</td>\n",
       "      <td>female</td>\n",
       "      <td>807 Doktorlar Cd, Kırklareli, Hatay, Turkey</td>\n",
       "      <td>99151</td>\n",
       "      <td>ege.ozbey@example.com</td>\n",
       "      <td>sadostrich659</td>\n",
       "      <td>1945-02-02 18:17:02</td>\n",
       "      <td>2010-06-21 09:17:36</td>\n",
       "      <td>(151)-035-0499</td>\n",
       "      <td>https://randomuser.me/api/portraits/med/women/...</td>\n",
       "      <td>2023-11-15 09:37:13</td>\n",
       "    </tr>\n",
       "    <tr>\n",
       "      <th>2</th>\n",
       "      <td>8eebed48-839a-11ee-aa9e-0242ac120002</td>\n",
       "      <td>Branka</td>\n",
       "      <td>Spasić</td>\n",
       "      <td>female</td>\n",
       "      <td>1917 Porodice Stanković, Plandište, Mačva, Serbia</td>\n",
       "      <td>78794</td>\n",
       "      <td>branka.spasic@example.com</td>\n",
       "      <td>smallleopard291</td>\n",
       "      <td>1947-01-11 05:33:39</td>\n",
       "      <td>2017-03-07 09:17:33</td>\n",
       "      <td>018-9648-429</td>\n",
       "      <td>https://randomuser.me/api/portraits/med/women/...</td>\n",
       "      <td>2023-11-15 09:37:14</td>\n",
       "    </tr>\n",
       "    <tr>\n",
       "      <th>3</th>\n",
       "      <td>8f23229a-839a-11ee-aa9e-0242ac120002</td>\n",
       "      <td>Maria</td>\n",
       "      <td>Walker</td>\n",
       "      <td>female</td>\n",
       "      <td>7640 Wai-Iti Road, Wellington, Southland, New ...</td>\n",
       "      <td>13010</td>\n",
       "      <td>maria.walker@example.com</td>\n",
       "      <td>goldenmouse447</td>\n",
       "      <td>1989-10-21 07:39:55</td>\n",
       "      <td>2012-10-27 21:40:14</td>\n",
       "      <td>(340)-465-9882</td>\n",
       "      <td>https://randomuser.me/api/portraits/med/women/...</td>\n",
       "      <td>2023-11-15 09:37:14</td>\n",
       "    </tr>\n",
       "    <tr>\n",
       "      <th>4</th>\n",
       "      <td>8f591670-839a-11ee-aa9e-0242ac120002</td>\n",
       "      <td>Evaristo</td>\n",
       "      <td>Viana</td>\n",
       "      <td>male</td>\n",
       "      <td>4641 Rua Santa Luzia , Paço do Lumiar, Minas G...</td>\n",
       "      <td>12803</td>\n",
       "      <td>evaristo.viana@example.com</td>\n",
       "      <td>lazyduck988</td>\n",
       "      <td>1971-05-24 12:39:02</td>\n",
       "      <td>2005-12-12 02:33:52</td>\n",
       "      <td>(67) 9093-5159</td>\n",
       "      <td>https://randomuser.me/api/portraits/med/men/10...</td>\n",
       "      <td>2023-11-15 09:37:14</td>\n",
       "    </tr>\n",
       "  </tbody>\n",
       "</table>\n",
       "</div>"
      ],
      "text/plain": [
       "                                     id first_name last_name  gender  \\\n",
       "0  8e799fea-839a-11ee-aa9e-0242ac120002     Judith   Daniels  female   \n",
       "1  8eb3b5a4-839a-11ee-aa9e-0242ac120002        Ege     Özbey  female   \n",
       "2  8eebed48-839a-11ee-aa9e-0242ac120002     Branka    Spasić  female   \n",
       "3  8f23229a-839a-11ee-aa9e-0242ac120002      Maria    Walker  female   \n",
       "4  8f591670-839a-11ee-aa9e-0242ac120002   Evaristo     Viana    male   \n",
       "\n",
       "                                             address post_code  \\\n",
       "0  8781 Novara Avenue, Enniscorthy, South Dublin,...     39798   \n",
       "1        807 Doktorlar Cd, Kırklareli, Hatay, Turkey     99151   \n",
       "2  1917 Porodice Stanković, Plandište, Mačva, Serbia     78794   \n",
       "3  7640 Wai-Iti Road, Wellington, Southland, New ...     13010   \n",
       "4  4641 Rua Santa Luzia , Paço do Lumiar, Minas G...     12803   \n",
       "\n",
       "                        email          username                  dob  \\\n",
       "0  judith.daniels@example.com  goldengorilla269  1952-08-06 21:48:59   \n",
       "1       ege.ozbey@example.com     sadostrich659  1945-02-02 18:17:02   \n",
       "2   branka.spasic@example.com   smallleopard291  1947-01-11 05:33:39   \n",
       "3    maria.walker@example.com    goldenmouse447  1989-10-21 07:39:55   \n",
       "4  evaristo.viana@example.com       lazyduck988  1971-05-24 12:39:02   \n",
       "\n",
       "       registered_date           phone  \\\n",
       "0  2017-12-14 23:54:32    041-656-4034   \n",
       "1  2010-06-21 09:17:36  (151)-035-0499   \n",
       "2  2017-03-07 09:17:33    018-9648-429   \n",
       "3  2012-10-27 21:40:14  (340)-465-9882   \n",
       "4  2005-12-12 02:33:52  (67) 9093-5159   \n",
       "\n",
       "                                             picture          update_date  \n",
       "0  https://randomuser.me/api/portraits/med/women/...  2023-11-15 09:37:13  \n",
       "1  https://randomuser.me/api/portraits/med/women/...  2023-11-15 09:37:13  \n",
       "2  https://randomuser.me/api/portraits/med/women/...  2023-11-15 09:37:14  \n",
       "3  https://randomuser.me/api/portraits/med/women/...  2023-11-15 09:37:14  \n",
       "4  https://randomuser.me/api/portraits/med/men/10...  2023-11-15 09:37:14  "
      ]
     },
     "execution_count": 5,
     "metadata": {},
     "output_type": "execute_result"
    }
   ],
   "source": [
    "# Define type for each columns\n",
    "schema = StructType([\n",
    "    StructField(\"id\", StringType(), True),\n",
    "    StructField(\"first_name\", StringType(), False),\n",
    "    StructField(\"last_name\", StringType(), False),\n",
    "    StructField(\"gender\", StringType(), False),\n",
    "    StructField(\"address\", StringType(), False),\n",
    "    StructField(\"post_code\", StringType(), False),\n",
    "    StructField(\"email\", StringType(), False),\n",
    "    StructField(\"username\", StringType(), False),\n",
    "    StructField(\"dob\", TimestampType(), False),\n",
    "    StructField(\"registered_date\", TimestampType(), False),\n",
    "    StructField(\"phone\", StringType(), False),\n",
    "    StructField(\"picture\", StringType(), False)\n",
    "])\n",
    "\n",
    "# Define a function converting uuid to datetime (when records are updated)\n",
    "def convert_uuid_to_datetime(uuid_string):\n",
    "    uuid_object = uuid.UUID(uuid_string)\n",
    "    timestamp = time_uuid.TimeUUID(bytes=uuid_object.bytes).get_timestamp()\n",
    "    datetime_object = datetime.fromtimestamp(timestamp)\n",
    "    return datetime_object\n",
    "\n",
    "udf_convert_uuid_to_datetime = udf(lambda z: convert_uuid_to_datetime(z), TimestampType())\n",
    "\n",
    "# Create Pyspark dataframe from Kafka\n",
    "sel = spark_df.selectExpr(\"CAST(value AS STRING)\") \\\n",
    "    .select(from_json(col('value'), schema).alias('data')).select(\"data.*\")\\\n",
    "    .withColumn('dob', substring(col('dob'), 1, 19))\\\n",
    "    .withColumn('registered_date', substring(col('registered_date'), 1, 19))\\\n",
    "    .withColumn('update_date', udf_convert_uuid_to_datetime(col('id')))\\\n",
    "    .withColumn('update_date', substring(col('update_date'), 1, 19))\n",
    "\n",
    "sel.limit(5).toPandas()"
   ]
  },
  {
   "cell_type": "markdown",
   "metadata": {},
   "source": [
    "## Create cassandra connection"
   ]
  },
  {
   "cell_type": "code",
   "execution_count": 10,
   "metadata": {},
   "outputs": [
    {
     "data": {
      "text/plain": [
       "<cassandra.cluster.Session at 0x7fd449884fa0>"
      ]
     },
     "execution_count": 10,
     "metadata": {},
     "output_type": "execute_result"
    }
   ],
   "source": [
    "cluster = Cluster(['host.docker.internal'])\n",
    "cas_session = cluster.connect()\n",
    "cas_session"
   ]
  },
  {
   "cell_type": "markdown",
   "metadata": {},
   "source": [
    "### Create keyspace"
   ]
  },
  {
   "cell_type": "code",
   "execution_count": 11,
   "metadata": {},
   "outputs": [
    {
     "data": {
      "text/plain": [
       "<cassandra.cluster.ResultSet at 0x7fd44995b610>"
      ]
     },
     "execution_count": 11,
     "metadata": {},
     "output_type": "execute_result"
    }
   ],
   "source": [
    "cas_session.execute(\"\"\"\n",
    "    CREATE KEYSPACE IF NOT EXISTS spark_streams\n",
    "    WITH replication = {'class': 'SimpleStrategy', 'replication_factor': '1'};\n",
    "\"\"\")"
   ]
  },
  {
   "cell_type": "markdown",
   "metadata": {},
   "source": [
    "### Create table"
   ]
  },
  {
   "cell_type": "code",
   "execution_count": 12,
   "metadata": {},
   "outputs": [
    {
     "data": {
      "text/plain": [
       "<cassandra.cluster.ResultSet at 0x7fd44995b4c0>"
      ]
     },
     "execution_count": 12,
     "metadata": {},
     "output_type": "execute_result"
    }
   ],
   "source": [
    "cas_session.execute(\"\"\"\n",
    "    CREATE TABLE IF NOT EXISTS spark_streams.created_users (\n",
    "        id UUID PRIMARY KEY,\n",
    "        first_name TEXT,\n",
    "        last_name TEXT,\n",
    "        gender TEXT,\n",
    "        address TEXT,\n",
    "        post_code TEXT,\n",
    "        email TEXT,\n",
    "        username TEXT,\n",
    "        dob TIMESTAMP,\n",
    "        registered_date TIMESTAMP,\n",
    "        phone TEXT,\n",
    "        picture TEXT,\n",
    "        update_date TIMESTAMP);\n",
    "\"\"\")"
   ]
  },
  {
   "cell_type": "markdown",
   "metadata": {},
   "source": [
    "### Insert_data to cassandra"
   ]
  },
  {
   "cell_type": "code",
   "execution_count": 13,
   "metadata": {},
   "outputs": [
    {
     "name": "stderr",
     "output_type": "stream",
     "text": [
      "ERROR:root:KeyboardInterrupt while sending command.\n",
      "Traceback (most recent call last):\n",
      "  File \"/spark/python/lib/py4j-0.10.9.5-src.zip/py4j/java_gateway.py\", line 1038, in send_command\n",
      "    response = connection.send_command(command)\n",
      "  File \"/spark/python/lib/py4j-0.10.9.5-src.zip/py4j/clientserver.py\", line 511, in send_command\n",
      "    answer = smart_decode(self.stream.readline()[:-1])\n",
      "  File \"/usr/local/lib/python3.10/socket.py\", line 705, in readinto\n",
      "    return self._sock.recv_into(b)\n",
      "KeyboardInterrupt\n"
     ]
    },
    {
     "ename": "KeyboardInterrupt",
     "evalue": "",
     "output_type": "error",
     "traceback": [
      "\u001b[0;31m---------------------------------------------------------------------------\u001b[0m",
      "\u001b[0;31mKeyboardInterrupt\u001b[0m                         Traceback (most recent call last)",
      "Cell \u001b[0;32mIn[13], line 7\u001b[0m\n\u001b[1;32m      1\u001b[0m streaming_query \u001b[38;5;241m=\u001b[39m (sel\u001b[38;5;241m.\u001b[39mwriteStream\u001b[38;5;241m.\u001b[39mformat(\u001b[38;5;124m\"\u001b[39m\u001b[38;5;124morg.apache.spark.sql.cassandra\u001b[39m\u001b[38;5;124m\"\u001b[39m)\n\u001b[1;32m      2\u001b[0m                    \u001b[38;5;241m.\u001b[39moption(\u001b[38;5;124m'\u001b[39m\u001b[38;5;124mcheckpointLocation\u001b[39m\u001b[38;5;124m'\u001b[39m, \u001b[38;5;124m'\u001b[39m\u001b[38;5;124m/tmp/checkpoint\u001b[39m\u001b[38;5;124m'\u001b[39m)\n\u001b[1;32m      3\u001b[0m                    \u001b[38;5;241m.\u001b[39moption(\u001b[38;5;124m'\u001b[39m\u001b[38;5;124mkeyspace\u001b[39m\u001b[38;5;124m'\u001b[39m, \u001b[38;5;124m'\u001b[39m\u001b[38;5;124mspark_streams\u001b[39m\u001b[38;5;124m'\u001b[39m)\n\u001b[1;32m      4\u001b[0m                    \u001b[38;5;241m.\u001b[39moption(\u001b[38;5;124m'\u001b[39m\u001b[38;5;124mtable\u001b[39m\u001b[38;5;124m'\u001b[39m, \u001b[38;5;124m'\u001b[39m\u001b[38;5;124mcreated_users\u001b[39m\u001b[38;5;124m'\u001b[39m)\n\u001b[1;32m      5\u001b[0m                    \u001b[38;5;241m.\u001b[39mstart())\n\u001b[0;32m----> 7\u001b[0m \u001b[43mstreaming_query\u001b[49m\u001b[38;5;241;43m.\u001b[39;49m\u001b[43mawaitTermination\u001b[49m\u001b[43m(\u001b[49m\u001b[43m)\u001b[49m\n",
      "File \u001b[0;32m/spark/python/pyspark/sql/streaming.py:107\u001b[0m, in \u001b[0;36mStreamingQuery.awaitTermination\u001b[0;34m(self, timeout)\u001b[0m\n\u001b[1;32m    105\u001b[0m     \u001b[38;5;28;01mreturn\u001b[39;00m \u001b[38;5;28mself\u001b[39m\u001b[38;5;241m.\u001b[39m_jsq\u001b[38;5;241m.\u001b[39mawaitTermination(\u001b[38;5;28mint\u001b[39m(timeout \u001b[38;5;241m*\u001b[39m \u001b[38;5;241m1000\u001b[39m))\n\u001b[1;32m    106\u001b[0m \u001b[38;5;28;01melse\u001b[39;00m:\n\u001b[0;32m--> 107\u001b[0m     \u001b[38;5;28;01mreturn\u001b[39;00m \u001b[38;5;28;43mself\u001b[39;49m\u001b[38;5;241;43m.\u001b[39;49m\u001b[43m_jsq\u001b[49m\u001b[38;5;241;43m.\u001b[39;49m\u001b[43mawaitTermination\u001b[49m\u001b[43m(\u001b[49m\u001b[43m)\u001b[49m\n",
      "File \u001b[0;32m/spark/python/lib/py4j-0.10.9.5-src.zip/py4j/java_gateway.py:1320\u001b[0m, in \u001b[0;36mJavaMember.__call__\u001b[0;34m(self, *args)\u001b[0m\n\u001b[1;32m   1313\u001b[0m args_command, temp_args \u001b[38;5;241m=\u001b[39m \u001b[38;5;28mself\u001b[39m\u001b[38;5;241m.\u001b[39m_build_args(\u001b[38;5;241m*\u001b[39margs)\n\u001b[1;32m   1315\u001b[0m command \u001b[38;5;241m=\u001b[39m proto\u001b[38;5;241m.\u001b[39mCALL_COMMAND_NAME \u001b[38;5;241m+\u001b[39m\\\n\u001b[1;32m   1316\u001b[0m     \u001b[38;5;28mself\u001b[39m\u001b[38;5;241m.\u001b[39mcommand_header \u001b[38;5;241m+\u001b[39m\\\n\u001b[1;32m   1317\u001b[0m     args_command \u001b[38;5;241m+\u001b[39m\\\n\u001b[1;32m   1318\u001b[0m     proto\u001b[38;5;241m.\u001b[39mEND_COMMAND_PART\n\u001b[0;32m-> 1320\u001b[0m answer \u001b[38;5;241m=\u001b[39m \u001b[38;5;28;43mself\u001b[39;49m\u001b[38;5;241;43m.\u001b[39;49m\u001b[43mgateway_client\u001b[49m\u001b[38;5;241;43m.\u001b[39;49m\u001b[43msend_command\u001b[49m\u001b[43m(\u001b[49m\u001b[43mcommand\u001b[49m\u001b[43m)\u001b[49m\n\u001b[1;32m   1321\u001b[0m return_value \u001b[38;5;241m=\u001b[39m get_return_value(\n\u001b[1;32m   1322\u001b[0m     answer, \u001b[38;5;28mself\u001b[39m\u001b[38;5;241m.\u001b[39mgateway_client, \u001b[38;5;28mself\u001b[39m\u001b[38;5;241m.\u001b[39mtarget_id, \u001b[38;5;28mself\u001b[39m\u001b[38;5;241m.\u001b[39mname)\n\u001b[1;32m   1324\u001b[0m \u001b[38;5;28;01mfor\u001b[39;00m temp_arg \u001b[38;5;129;01min\u001b[39;00m temp_args:\n",
      "File \u001b[0;32m/spark/python/lib/py4j-0.10.9.5-src.zip/py4j/java_gateway.py:1038\u001b[0m, in \u001b[0;36mGatewayClient.send_command\u001b[0;34m(self, command, retry, binary)\u001b[0m\n\u001b[1;32m   1036\u001b[0m connection \u001b[38;5;241m=\u001b[39m \u001b[38;5;28mself\u001b[39m\u001b[38;5;241m.\u001b[39m_get_connection()\n\u001b[1;32m   1037\u001b[0m \u001b[38;5;28;01mtry\u001b[39;00m:\n\u001b[0;32m-> 1038\u001b[0m     response \u001b[38;5;241m=\u001b[39m \u001b[43mconnection\u001b[49m\u001b[38;5;241;43m.\u001b[39;49m\u001b[43msend_command\u001b[49m\u001b[43m(\u001b[49m\u001b[43mcommand\u001b[49m\u001b[43m)\u001b[49m\n\u001b[1;32m   1039\u001b[0m     \u001b[38;5;28;01mif\u001b[39;00m binary:\n\u001b[1;32m   1040\u001b[0m         \u001b[38;5;28;01mreturn\u001b[39;00m response, \u001b[38;5;28mself\u001b[39m\u001b[38;5;241m.\u001b[39m_create_connection_guard(connection)\n",
      "File \u001b[0;32m/spark/python/lib/py4j-0.10.9.5-src.zip/py4j/clientserver.py:511\u001b[0m, in \u001b[0;36mClientServerConnection.send_command\u001b[0;34m(self, command)\u001b[0m\n\u001b[1;32m    509\u001b[0m \u001b[38;5;28;01mtry\u001b[39;00m:\n\u001b[1;32m    510\u001b[0m     \u001b[38;5;28;01mwhile\u001b[39;00m \u001b[38;5;28;01mTrue\u001b[39;00m:\n\u001b[0;32m--> 511\u001b[0m         answer \u001b[38;5;241m=\u001b[39m smart_decode(\u001b[38;5;28;43mself\u001b[39;49m\u001b[38;5;241;43m.\u001b[39;49m\u001b[43mstream\u001b[49m\u001b[38;5;241;43m.\u001b[39;49m\u001b[43mreadline\u001b[49m\u001b[43m(\u001b[49m\u001b[43m)\u001b[49m[:\u001b[38;5;241m-\u001b[39m\u001b[38;5;241m1\u001b[39m])\n\u001b[1;32m    512\u001b[0m         logger\u001b[38;5;241m.\u001b[39mdebug(\u001b[38;5;124m\"\u001b[39m\u001b[38;5;124mAnswer received: \u001b[39m\u001b[38;5;132;01m{0}\u001b[39;00m\u001b[38;5;124m\"\u001b[39m\u001b[38;5;241m.\u001b[39mformat(answer))\n\u001b[1;32m    513\u001b[0m         \u001b[38;5;66;03m# Happens when a the other end is dead. There might be an empty\u001b[39;00m\n\u001b[1;32m    514\u001b[0m         \u001b[38;5;66;03m# answer before the socket raises an error.\u001b[39;00m\n",
      "File \u001b[0;32m/usr/local/lib/python3.10/socket.py:705\u001b[0m, in \u001b[0;36mSocketIO.readinto\u001b[0;34m(self, b)\u001b[0m\n\u001b[1;32m    703\u001b[0m \u001b[38;5;28;01mwhile\u001b[39;00m \u001b[38;5;28;01mTrue\u001b[39;00m:\n\u001b[1;32m    704\u001b[0m     \u001b[38;5;28;01mtry\u001b[39;00m:\n\u001b[0;32m--> 705\u001b[0m         \u001b[38;5;28;01mreturn\u001b[39;00m \u001b[38;5;28;43mself\u001b[39;49m\u001b[38;5;241;43m.\u001b[39;49m\u001b[43m_sock\u001b[49m\u001b[38;5;241;43m.\u001b[39;49m\u001b[43mrecv_into\u001b[49m\u001b[43m(\u001b[49m\u001b[43mb\u001b[49m\u001b[43m)\u001b[49m\n\u001b[1;32m    706\u001b[0m     \u001b[38;5;28;01mexcept\u001b[39;00m timeout:\n\u001b[1;32m    707\u001b[0m         \u001b[38;5;28mself\u001b[39m\u001b[38;5;241m.\u001b[39m_timeout_occurred \u001b[38;5;241m=\u001b[39m \u001b[38;5;28;01mTrue\u001b[39;00m\n",
      "\u001b[0;31mKeyboardInterrupt\u001b[0m: "
     ]
    }
   ],
   "source": [
    "streaming_query = (sel.writeStream.format(\"org.apache.spark.sql.cassandra\")\n",
    "                   .option('checkpointLocation', '/tmp/checkpoint')\n",
    "                   .option('keyspace', 'spark_streams')\n",
    "                   .option('table', 'created_users')\n",
    "                   .start())\n",
    "\n",
    "streaming_query.awaitTermination()"
   ]
  },
  {
   "cell_type": "markdown",
   "metadata": {},
   "source": [
    "## Read cassandra spark dataframe"
   ]
  },
  {
   "cell_type": "code",
   "execution_count": 14,
   "metadata": {},
   "outputs": [
    {
     "name": "stdout",
     "output_type": "stream",
     "text": [
      "+------------------------------------+----------------------------------------------------------+-------------------+----------------------------+----------+------+---------+--------------+----------------------------------------------------+---------+-------------------+-------------------+-----------------+\n",
      "|id                                  |address                                                   |dob                |email                       |first_name|gender|last_name|phone         |picture                                             |post_code|registered_date    |update_date        |username         |\n",
      "+------------------------------------+----------------------------------------------------------+-------------------+----------------------------+----------+------+---------+--------------+----------------------------------------------------+---------+-------------------+-------------------+-----------------+\n",
      "|9b1824d8-839a-11ee-aa9e-0242ac120002|1875 Stevens Creek Blvd, Helena, New Jersey, United States|1957-06-04 01:52:25|lauren.dixon@example.com    |Lauren    |female|Dixon    |(708) 454-7152|https://randomuser.me/api/portraits/med/women/89.jpg|47475    |2002-04-24 07:15:51|2023-11-15 09:37:34|organicmeercat289|\n",
      "|9ef8a000-839a-11ee-aa9e-0242ac120002|2288 Ormond Quay, Ennis, Kildare, Ireland                 |1976-11-27 12:41:28|luke.hudson@example.com     |Luke      |male  |Hudson   |051-259-0963  |https://randomuser.me/api/portraits/med/men/45.jpg  |54790    |2012-10-17 08:28:55|2023-11-15 09:37:41|whitesnake496    |\n",
      "|8fc8c4de-839a-11ee-aa9e-0242ac120002|71 Cerrada Lugo, Singuilucan, Sinaloa, Mexico             |1997-10-16 04:06:46|micaela.gonzales@example.com|Micaela   |female|Gonzales |(662) 385 8040|https://randomuser.me/api/portraits/med/women/89.jpg|37162    |2015-10-06 06:45:53|2023-11-15 09:37:15|bluepanda238     |\n",
      "|ae74c554-839a-11ee-aa9e-0242ac120002|9026 16 Lipnya, Snigurivka, Zhitomirska, Ukraine          |1973-01-03 00:52:18|tatomir.goroviy@example.com |Tatomir   |male  |Goroviy  |(066) I90-2330|https://randomuser.me/api/portraits/med/men/0.jpg   |75119    |2006-09-28 16:13:07|2023-11-15 09:38:07|whiterabbit696   |\n",
      "|a5f80e0e-839a-11ee-aa9e-0242ac120002|7429 Vatan Cd, Bayburt, Van, Turkey                       |1999-01-21 08:21:37|meral.gonultas@example.com  |Meral     |female|Gönültaş |(856)-687-3867|https://randomuser.me/api/portraits/med/women/10.jpg|42936    |2004-01-17 20:20:16|2023-11-15 09:37:52|beautifulsnake690|\n",
      "+------------------------------------+----------------------------------------------------------+-------------------+----------------------------+----------+------+---------+--------------+----------------------------------------------------+---------+-------------------+-------------------+-----------------+\n",
      "only showing top 5 rows\n",
      "\n"
     ]
    }
   ],
   "source": [
    "cassandra_options = {\n",
    "    \"keyspace\": \"spark_streams\",\n",
    "    \"table\": \"created_users\"\n",
    "}\n",
    "\n",
    "cass_df = s_conn.read \\\n",
    "    .format(\"org.apache.spark.sql.cassandra\") \\\n",
    "    .options(**cassandra_options) \\\n",
    "    .load()\n",
    "\n",
    "cass_df.show(5,False)"
   ]
  },
  {
   "cell_type": "code",
   "execution_count": null,
   "metadata": {},
   "outputs": [],
   "source": []
  }
 ],
 "metadata": {
  "kernelspec": {
   "display_name": "Python 3 (ipykernel)",
   "language": "python",
   "name": "python3"
  },
  "language_info": {
   "codemirror_mode": {
    "name": "ipython",
    "version": 3
   },
   "file_extension": ".py",
   "mimetype": "text/x-python",
   "name": "python",
   "nbconvert_exporter": "python",
   "pygments_lexer": "ipython3",
   "version": "3.10.13"
  }
 },
 "nbformat": 4,
 "nbformat_minor": 4
}
