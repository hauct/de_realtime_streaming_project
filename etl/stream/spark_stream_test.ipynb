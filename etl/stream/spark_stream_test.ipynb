{
 "cells": [
  {
   "cell_type": "code",
   "execution_count": 1,
   "metadata": {},
   "outputs": [
    {
     "name": "stdout",
     "output_type": "stream",
     "text": [
      "3.3.0\n"
     ]
    }
   ],
   "source": [
    "import pyspark\n",
    "print(pyspark.__version__)\n",
    "\n",
    "import logging\n",
    "\n",
    "import pandas as pd\n",
    "from cassandra.cluster import Cluster\n",
    "from pyspark.sql import SparkSession\n",
    "from pyspark.sql.functions import from_json, col\n",
    "from pyspark.sql.types import StructType, StructField, StringType, TimestampType, BinaryType, LongType, IntegerType"
   ]
  },
  {
   "cell_type": "markdown",
   "metadata": {},
   "source": [
    "## Build spark"
   ]
  },
  {
   "cell_type": "code",
   "execution_count": 2,
   "metadata": {},
   "outputs": [],
   "source": [
    "s_conn = SparkSession \\\n",
    "    .builder \\\n",
    "    .appName(\"SparkDataStreaming\") \\\n",
    "    .config(\"spark.streaming.stopGracefullyOnShutdown\", True) \\\n",
    "    .config('spark.jars.packages', \"org.apache.spark:spark-sql-kafka-0-10_2.12:3.3.0,\"\n",
    "                                \"com.datastax.spark:spark-cassandra-connector-assembly_2.12:3.3.0\") \\\n",
    "    .config(\"spark.sql.shuffle.partitions\", 4) \\\n",
    "    .config('spark.cassandra.connection.host', 'host.docker.internal') \\\n",
    "    .getOrCreate()"
   ]
  },
  {
   "cell_type": "markdown",
   "metadata": {},
   "source": [
    "## Connect to kafka"
   ]
  },
  {
   "cell_type": "code",
   "execution_count": 3,
   "metadata": {},
   "outputs": [],
   "source": [
    "spark_df = s_conn.readStream \\\n",
    "    .format('kafka') \\\n",
    "    .option('kafka.bootstrap.servers', 'kafka:29092') \\\n",
    "    .option('subscribe', 'user_created') \\\n",
    "    .option('startingOffsets', 'earliest') \\\n",
    "    .load()"
   ]
  },
  {
   "cell_type": "code",
   "execution_count": 4,
   "metadata": {},
   "outputs": [],
   "source": [
    "# Change 'readStream' to 'read' to read kafka\n",
    "# spark_df = s_conn.read\\\n",
    "#     .format('kafka') \\\n",
    "#     .option('kafka.bootstrap.servers', 'kafka:29092') \\\n",
    "#     .option('subscribe', 'user_created') \\\n",
    "#     .option('startingOffsets', 'earliest') \\\n",
    "#     .load()\n",
    "\n",
    "# spark_df.printSchema()\n",
    "# spark_df.show()"
   ]
  },
  {
   "cell_type": "markdown",
   "metadata": {},
   "source": [
    "## Create spark dataframe from kafka"
   ]
  },
  {
   "cell_type": "code",
   "execution_count": 5,
   "metadata": {},
   "outputs": [],
   "source": [
    "schema = StructType([\n",
    "    StructField(\"id\", StringType(), True),\n",
    "    StructField(\"first_name\", StringType(), False),\n",
    "    StructField(\"last_name\", StringType(), False),\n",
    "    StructField(\"gender\", StringType(), False),\n",
    "    StructField(\"address\", StringType(), False),\n",
    "    StructField(\"post_code\", StringType(), False),\n",
    "    StructField(\"email\", StringType(), False),\n",
    "    StructField(\"username\", StringType(), False),\n",
    "    StructField(\"dob\", TimestampType(), False),\n",
    "    StructField(\"registered_date\", TimestampType(), False),\n",
    "    StructField(\"phone\", StringType(), False),\n",
    "    StructField(\"picture\", StringType(), False)\n",
    "])\n",
    "\n",
    "sel = spark_df.selectExpr(\"CAST(value AS STRING)\") \\\n",
    "    .select(from_json(col('value'), schema).alias('data')).select(\"data.*\")"
   ]
  },
  {
   "cell_type": "markdown",
   "metadata": {},
   "source": [
    "## Create cassandra connection"
   ]
  },
  {
   "cell_type": "code",
   "execution_count": 6,
   "metadata": {},
   "outputs": [
    {
     "data": {
      "text/plain": [
       "<cassandra.cluster.Session at 0x7f4684f8dd20>"
      ]
     },
     "execution_count": 6,
     "metadata": {},
     "output_type": "execute_result"
    }
   ],
   "source": [
    "cluster = Cluster(['host.docker.internal'])\n",
    "cas_session = cluster.connect()\n",
    "cas_session"
   ]
  },
  {
   "cell_type": "markdown",
   "metadata": {},
   "source": [
    "### Create keyspace"
   ]
  },
  {
   "cell_type": "code",
   "execution_count": 7,
   "metadata": {},
   "outputs": [
    {
     "data": {
      "text/plain": [
       "<cassandra.cluster.ResultSet at 0x7f46857c3be0>"
      ]
     },
     "execution_count": 7,
     "metadata": {},
     "output_type": "execute_result"
    }
   ],
   "source": [
    "cas_session.execute(\"\"\"\n",
    "    CREATE KEYSPACE IF NOT EXISTS spark_streams\n",
    "    WITH replication = {'class': 'SimpleStrategy', 'replication_factor': '1'};\n",
    "\"\"\")"
   ]
  },
  {
   "cell_type": "markdown",
   "metadata": {},
   "source": [
    "### Create table"
   ]
  },
  {
   "cell_type": "code",
   "execution_count": 8,
   "metadata": {},
   "outputs": [
    {
     "data": {
      "text/plain": [
       "<cassandra.cluster.ResultSet at 0x7f46857c2e90>"
      ]
     },
     "execution_count": 8,
     "metadata": {},
     "output_type": "execute_result"
    }
   ],
   "source": [
    "cas_session.execute(\"\"\"\n",
    "    CREATE TABLE IF NOT EXISTS spark_streams.created_users (\n",
    "        id UUID PRIMARY KEY,\n",
    "        first_name TEXT,\n",
    "        last_name TEXT,\n",
    "        gender TEXT,\n",
    "        address TEXT,\n",
    "        post_code TEXT,\n",
    "        email TEXT,\n",
    "        username TEXT,\n",
    "        dob TIMESTAMP,\n",
    "        registered_date TIMESTAMP,\n",
    "        phone TEXT,\n",
    "        picture TEXT);\n",
    "\"\"\")"
   ]
  },
  {
   "cell_type": "markdown",
   "metadata": {},
   "source": [
    "### Insert_data to cassandra"
   ]
  },
  {
   "cell_type": "code",
   "execution_count": 9,
   "metadata": {},
   "outputs": [
    {
     "name": "stderr",
     "output_type": "stream",
     "text": [
      "ERROR:root:KeyboardInterrupt while sending command.\n",
      "Traceback (most recent call last):\n",
      "  File \"/spark/python/lib/py4j-0.10.9.5-src.zip/py4j/java_gateway.py\", line 1038, in send_command\n",
      "    response = connection.send_command(command)\n",
      "  File \"/spark/python/lib/py4j-0.10.9.5-src.zip/py4j/clientserver.py\", line 511, in send_command\n",
      "    answer = smart_decode(self.stream.readline()[:-1])\n",
      "  File \"/usr/local/lib/python3.10/socket.py\", line 705, in readinto\n",
      "    return self._sock.recv_into(b)\n",
      "KeyboardInterrupt\n"
     ]
    },
    {
     "ename": "KeyboardInterrupt",
     "evalue": "",
     "output_type": "error",
     "traceback": [
      "\u001b[0;31m---------------------------------------------------------------------------\u001b[0m",
      "\u001b[0;31mKeyboardInterrupt\u001b[0m                         Traceback (most recent call last)",
      "Cell \u001b[0;32mIn[9], line 7\u001b[0m\n\u001b[1;32m      1\u001b[0m streaming_query \u001b[38;5;241m=\u001b[39m (sel\u001b[38;5;241m.\u001b[39mwriteStream\u001b[38;5;241m.\u001b[39mformat(\u001b[38;5;124m\"\u001b[39m\u001b[38;5;124morg.apache.spark.sql.cassandra\u001b[39m\u001b[38;5;124m\"\u001b[39m)\n\u001b[1;32m      2\u001b[0m                    \u001b[38;5;241m.\u001b[39moption(\u001b[38;5;124m'\u001b[39m\u001b[38;5;124mcheckpointLocation\u001b[39m\u001b[38;5;124m'\u001b[39m, \u001b[38;5;124m'\u001b[39m\u001b[38;5;124m/tmp/checkpoint\u001b[39m\u001b[38;5;124m'\u001b[39m)\n\u001b[1;32m      3\u001b[0m                    \u001b[38;5;241m.\u001b[39moption(\u001b[38;5;124m'\u001b[39m\u001b[38;5;124mkeyspace\u001b[39m\u001b[38;5;124m'\u001b[39m, \u001b[38;5;124m'\u001b[39m\u001b[38;5;124mspark_streams\u001b[39m\u001b[38;5;124m'\u001b[39m)\n\u001b[1;32m      4\u001b[0m                    \u001b[38;5;241m.\u001b[39moption(\u001b[38;5;124m'\u001b[39m\u001b[38;5;124mtable\u001b[39m\u001b[38;5;124m'\u001b[39m, \u001b[38;5;124m'\u001b[39m\u001b[38;5;124mcreated_users\u001b[39m\u001b[38;5;124m'\u001b[39m)\n\u001b[1;32m      5\u001b[0m                    \u001b[38;5;241m.\u001b[39mstart())\n\u001b[0;32m----> 7\u001b[0m \u001b[43mstreaming_query\u001b[49m\u001b[38;5;241;43m.\u001b[39;49m\u001b[43mawaitTermination\u001b[49m\u001b[43m(\u001b[49m\u001b[43m)\u001b[49m\n",
      "File \u001b[0;32m/spark/python/pyspark/sql/streaming.py:107\u001b[0m, in \u001b[0;36mStreamingQuery.awaitTermination\u001b[0;34m(self, timeout)\u001b[0m\n\u001b[1;32m    105\u001b[0m     \u001b[38;5;28;01mreturn\u001b[39;00m \u001b[38;5;28mself\u001b[39m\u001b[38;5;241m.\u001b[39m_jsq\u001b[38;5;241m.\u001b[39mawaitTermination(\u001b[38;5;28mint\u001b[39m(timeout \u001b[38;5;241m*\u001b[39m \u001b[38;5;241m1000\u001b[39m))\n\u001b[1;32m    106\u001b[0m \u001b[38;5;28;01melse\u001b[39;00m:\n\u001b[0;32m--> 107\u001b[0m     \u001b[38;5;28;01mreturn\u001b[39;00m \u001b[38;5;28;43mself\u001b[39;49m\u001b[38;5;241;43m.\u001b[39;49m\u001b[43m_jsq\u001b[49m\u001b[38;5;241;43m.\u001b[39;49m\u001b[43mawaitTermination\u001b[49m\u001b[43m(\u001b[49m\u001b[43m)\u001b[49m\n",
      "File \u001b[0;32m/spark/python/lib/py4j-0.10.9.5-src.zip/py4j/java_gateway.py:1320\u001b[0m, in \u001b[0;36mJavaMember.__call__\u001b[0;34m(self, *args)\u001b[0m\n\u001b[1;32m   1313\u001b[0m args_command, temp_args \u001b[38;5;241m=\u001b[39m \u001b[38;5;28mself\u001b[39m\u001b[38;5;241m.\u001b[39m_build_args(\u001b[38;5;241m*\u001b[39margs)\n\u001b[1;32m   1315\u001b[0m command \u001b[38;5;241m=\u001b[39m proto\u001b[38;5;241m.\u001b[39mCALL_COMMAND_NAME \u001b[38;5;241m+\u001b[39m\\\n\u001b[1;32m   1316\u001b[0m     \u001b[38;5;28mself\u001b[39m\u001b[38;5;241m.\u001b[39mcommand_header \u001b[38;5;241m+\u001b[39m\\\n\u001b[1;32m   1317\u001b[0m     args_command \u001b[38;5;241m+\u001b[39m\\\n\u001b[1;32m   1318\u001b[0m     proto\u001b[38;5;241m.\u001b[39mEND_COMMAND_PART\n\u001b[0;32m-> 1320\u001b[0m answer \u001b[38;5;241m=\u001b[39m \u001b[38;5;28;43mself\u001b[39;49m\u001b[38;5;241;43m.\u001b[39;49m\u001b[43mgateway_client\u001b[49m\u001b[38;5;241;43m.\u001b[39;49m\u001b[43msend_command\u001b[49m\u001b[43m(\u001b[49m\u001b[43mcommand\u001b[49m\u001b[43m)\u001b[49m\n\u001b[1;32m   1321\u001b[0m return_value \u001b[38;5;241m=\u001b[39m get_return_value(\n\u001b[1;32m   1322\u001b[0m     answer, \u001b[38;5;28mself\u001b[39m\u001b[38;5;241m.\u001b[39mgateway_client, \u001b[38;5;28mself\u001b[39m\u001b[38;5;241m.\u001b[39mtarget_id, \u001b[38;5;28mself\u001b[39m\u001b[38;5;241m.\u001b[39mname)\n\u001b[1;32m   1324\u001b[0m \u001b[38;5;28;01mfor\u001b[39;00m temp_arg \u001b[38;5;129;01min\u001b[39;00m temp_args:\n",
      "File \u001b[0;32m/spark/python/lib/py4j-0.10.9.5-src.zip/py4j/java_gateway.py:1038\u001b[0m, in \u001b[0;36mGatewayClient.send_command\u001b[0;34m(self, command, retry, binary)\u001b[0m\n\u001b[1;32m   1036\u001b[0m connection \u001b[38;5;241m=\u001b[39m \u001b[38;5;28mself\u001b[39m\u001b[38;5;241m.\u001b[39m_get_connection()\n\u001b[1;32m   1037\u001b[0m \u001b[38;5;28;01mtry\u001b[39;00m:\n\u001b[0;32m-> 1038\u001b[0m     response \u001b[38;5;241m=\u001b[39m \u001b[43mconnection\u001b[49m\u001b[38;5;241;43m.\u001b[39;49m\u001b[43msend_command\u001b[49m\u001b[43m(\u001b[49m\u001b[43mcommand\u001b[49m\u001b[43m)\u001b[49m\n\u001b[1;32m   1039\u001b[0m     \u001b[38;5;28;01mif\u001b[39;00m binary:\n\u001b[1;32m   1040\u001b[0m         \u001b[38;5;28;01mreturn\u001b[39;00m response, \u001b[38;5;28mself\u001b[39m\u001b[38;5;241m.\u001b[39m_create_connection_guard(connection)\n",
      "File \u001b[0;32m/spark/python/lib/py4j-0.10.9.5-src.zip/py4j/clientserver.py:511\u001b[0m, in \u001b[0;36mClientServerConnection.send_command\u001b[0;34m(self, command)\u001b[0m\n\u001b[1;32m    509\u001b[0m \u001b[38;5;28;01mtry\u001b[39;00m:\n\u001b[1;32m    510\u001b[0m     \u001b[38;5;28;01mwhile\u001b[39;00m \u001b[38;5;28;01mTrue\u001b[39;00m:\n\u001b[0;32m--> 511\u001b[0m         answer \u001b[38;5;241m=\u001b[39m smart_decode(\u001b[38;5;28;43mself\u001b[39;49m\u001b[38;5;241;43m.\u001b[39;49m\u001b[43mstream\u001b[49m\u001b[38;5;241;43m.\u001b[39;49m\u001b[43mreadline\u001b[49m\u001b[43m(\u001b[49m\u001b[43m)\u001b[49m[:\u001b[38;5;241m-\u001b[39m\u001b[38;5;241m1\u001b[39m])\n\u001b[1;32m    512\u001b[0m         logger\u001b[38;5;241m.\u001b[39mdebug(\u001b[38;5;124m\"\u001b[39m\u001b[38;5;124mAnswer received: \u001b[39m\u001b[38;5;132;01m{0}\u001b[39;00m\u001b[38;5;124m\"\u001b[39m\u001b[38;5;241m.\u001b[39mformat(answer))\n\u001b[1;32m    513\u001b[0m         \u001b[38;5;66;03m# Happens when a the other end is dead. There might be an empty\u001b[39;00m\n\u001b[1;32m    514\u001b[0m         \u001b[38;5;66;03m# answer before the socket raises an error.\u001b[39;00m\n",
      "File \u001b[0;32m/usr/local/lib/python3.10/socket.py:705\u001b[0m, in \u001b[0;36mSocketIO.readinto\u001b[0;34m(self, b)\u001b[0m\n\u001b[1;32m    703\u001b[0m \u001b[38;5;28;01mwhile\u001b[39;00m \u001b[38;5;28;01mTrue\u001b[39;00m:\n\u001b[1;32m    704\u001b[0m     \u001b[38;5;28;01mtry\u001b[39;00m:\n\u001b[0;32m--> 705\u001b[0m         \u001b[38;5;28;01mreturn\u001b[39;00m \u001b[38;5;28;43mself\u001b[39;49m\u001b[38;5;241;43m.\u001b[39;49m\u001b[43m_sock\u001b[49m\u001b[38;5;241;43m.\u001b[39;49m\u001b[43mrecv_into\u001b[49m\u001b[43m(\u001b[49m\u001b[43mb\u001b[49m\u001b[43m)\u001b[49m\n\u001b[1;32m    706\u001b[0m     \u001b[38;5;28;01mexcept\u001b[39;00m timeout:\n\u001b[1;32m    707\u001b[0m         \u001b[38;5;28mself\u001b[39m\u001b[38;5;241m.\u001b[39m_timeout_occurred \u001b[38;5;241m=\u001b[39m \u001b[38;5;28;01mTrue\u001b[39;00m\n",
      "\u001b[0;31mKeyboardInterrupt\u001b[0m: "
     ]
    }
   ],
   "source": [
    "streaming_query = (sel.writeStream.format(\"org.apache.spark.sql.cassandra\")\n",
    "                   .option('checkpointLocation', '/tmp/checkpoint')\n",
    "                   .option('keyspace', 'spark_streams')\n",
    "                   .option('table', 'created_users')\n",
    "                   .start())\n",
    "\n",
    "streaming_query.awaitTermination()"
   ]
  },
  {
   "cell_type": "markdown",
   "metadata": {},
   "source": [
    "## Read cassandra spark dataframe"
   ]
  },
  {
   "cell_type": "code",
   "execution_count": 10,
   "metadata": {},
   "outputs": [
    {
     "data": {
      "text/html": [
       "<div>\n",
       "<style scoped>\n",
       "    .dataframe tbody tr th:only-of-type {\n",
       "        vertical-align: middle;\n",
       "    }\n",
       "\n",
       "    .dataframe tbody tr th {\n",
       "        vertical-align: top;\n",
       "    }\n",
       "\n",
       "    .dataframe thead th {\n",
       "        text-align: right;\n",
       "    }\n",
       "</style>\n",
       "<table border=\"1\" class=\"dataframe\">\n",
       "  <thead>\n",
       "    <tr style=\"text-align: right;\">\n",
       "      <th></th>\n",
       "      <th>id</th>\n",
       "      <th>address</th>\n",
       "      <th>dob</th>\n",
       "      <th>email</th>\n",
       "      <th>first_name</th>\n",
       "      <th>gender</th>\n",
       "      <th>last_name</th>\n",
       "      <th>phone</th>\n",
       "      <th>picture</th>\n",
       "      <th>post_code</th>\n",
       "      <th>registered_date</th>\n",
       "      <th>username</th>\n",
       "    </tr>\n",
       "  </thead>\n",
       "  <tbody>\n",
       "    <tr>\n",
       "      <th>0</th>\n",
       "      <td>7c50630e-82d6-11ee-8fcc-0242ac120009</td>\n",
       "      <td>8880 Peatonal Arreola, San Pedro Lagunillas, Q...</td>\n",
       "      <td>1979-05-23T00:41:50.154Z</td>\n",
       "      <td>lourdes.olmos@example.com</td>\n",
       "      <td>Lourdes</td>\n",
       "      <td>female</td>\n",
       "      <td>Olmos</td>\n",
       "      <td>(622) 157 8755</td>\n",
       "      <td>https://randomuser.me/api/portraits/med/women/...</td>\n",
       "      <td>83277</td>\n",
       "      <td>2003-04-16T21:29:47.084Z</td>\n",
       "      <td>angryelephant289</td>\n",
       "    </tr>\n",
       "    <tr>\n",
       "      <th>1</th>\n",
       "      <td>8e2f90c2-82d6-11ee-8fcc-0242ac120009</td>\n",
       "      <td>2202 Dane St, Sacramento, Idaho, United States</td>\n",
       "      <td>1995-06-07T00:55:34.002Z</td>\n",
       "      <td>gabriel.elliott@example.com</td>\n",
       "      <td>Gabriel</td>\n",
       "      <td>male</td>\n",
       "      <td>Elliott</td>\n",
       "      <td>(363) 918-2070</td>\n",
       "      <td>https://randomuser.me/api/portraits/med/men/99...</td>\n",
       "      <td>17091</td>\n",
       "      <td>2016-02-14T17:42:51.301Z</td>\n",
       "      <td>bigfish863</td>\n",
       "    </tr>\n",
       "    <tr>\n",
       "      <th>2</th>\n",
       "      <td>78ddad1c-82d6-11ee-8fcc-0242ac120009</td>\n",
       "      <td>2345 Fontainhas, Bidhannagar, Dadra and Nagar ...</td>\n",
       "      <td>1965-02-17T16:38:22.121Z</td>\n",
       "      <td>gunbir.kumar@example.com</td>\n",
       "      <td>Gunbir</td>\n",
       "      <td>male</td>\n",
       "      <td>Kumar</td>\n",
       "      <td>7069860700</td>\n",
       "      <td>https://randomuser.me/api/portraits/med/men/90...</td>\n",
       "      <td>82551</td>\n",
       "      <td>2010-11-28T01:53:14.494Z</td>\n",
       "      <td>whitemeercat278</td>\n",
       "    </tr>\n",
       "    <tr>\n",
       "      <th>3</th>\n",
       "      <td>1cb4bf98-82d7-11ee-990e-0242ac120009</td>\n",
       "      <td>8366 Berislavske shose, Novoukrayinka, Zakarpa...</td>\n",
       "      <td>1962-04-08T11:09:28.170Z</td>\n",
       "      <td>bilovid.logvinenko@example.com</td>\n",
       "      <td>Bilovid</td>\n",
       "      <td>male</td>\n",
       "      <td>Logvinenko</td>\n",
       "      <td>(066) B41-0950</td>\n",
       "      <td>https://randomuser.me/api/portraits/med/men/90...</td>\n",
       "      <td>33400</td>\n",
       "      <td>2011-04-10T05:20:03.503Z</td>\n",
       "      <td>lazybutterfly927</td>\n",
       "    </tr>\n",
       "    <tr>\n",
       "      <th>4</th>\n",
       "      <td>13ab9f02-82d7-11ee-990e-0242ac120009</td>\n",
       "      <td>5996 E Sandy Lake Rd, Sacramento, Kentucky, Un...</td>\n",
       "      <td>1964-09-04T14:36:18.944Z</td>\n",
       "      <td>eric.reyes@example.com</td>\n",
       "      <td>Eric</td>\n",
       "      <td>male</td>\n",
       "      <td>Reyes</td>\n",
       "      <td>(557) 478-5372</td>\n",
       "      <td>https://randomuser.me/api/portraits/med/men/97...</td>\n",
       "      <td>74467</td>\n",
       "      <td>2013-06-13T23:02:18.671Z</td>\n",
       "      <td>purpleelephant689</td>\n",
       "    </tr>\n",
       "  </tbody>\n",
       "</table>\n",
       "</div>"
      ],
      "text/plain": [
       "                                     id  \\\n",
       "0  7c50630e-82d6-11ee-8fcc-0242ac120009   \n",
       "1  8e2f90c2-82d6-11ee-8fcc-0242ac120009   \n",
       "2  78ddad1c-82d6-11ee-8fcc-0242ac120009   \n",
       "3  1cb4bf98-82d7-11ee-990e-0242ac120009   \n",
       "4  13ab9f02-82d7-11ee-990e-0242ac120009   \n",
       "\n",
       "                                             address  \\\n",
       "0  8880 Peatonal Arreola, San Pedro Lagunillas, Q...   \n",
       "1     2202 Dane St, Sacramento, Idaho, United States   \n",
       "2  2345 Fontainhas, Bidhannagar, Dadra and Nagar ...   \n",
       "3  8366 Berislavske shose, Novoukrayinka, Zakarpa...   \n",
       "4  5996 E Sandy Lake Rd, Sacramento, Kentucky, Un...   \n",
       "\n",
       "                        dob                           email first_name  \\\n",
       "0  1979-05-23T00:41:50.154Z       lourdes.olmos@example.com    Lourdes   \n",
       "1  1995-06-07T00:55:34.002Z     gabriel.elliott@example.com    Gabriel   \n",
       "2  1965-02-17T16:38:22.121Z        gunbir.kumar@example.com     Gunbir   \n",
       "3  1962-04-08T11:09:28.170Z  bilovid.logvinenko@example.com    Bilovid   \n",
       "4  1964-09-04T14:36:18.944Z          eric.reyes@example.com       Eric   \n",
       "\n",
       "   gender   last_name           phone  \\\n",
       "0  female       Olmos  (622) 157 8755   \n",
       "1    male     Elliott  (363) 918-2070   \n",
       "2    male       Kumar      7069860700   \n",
       "3    male  Logvinenko  (066) B41-0950   \n",
       "4    male       Reyes  (557) 478-5372   \n",
       "\n",
       "                                             picture post_code  \\\n",
       "0  https://randomuser.me/api/portraits/med/women/...     83277   \n",
       "1  https://randomuser.me/api/portraits/med/men/99...     17091   \n",
       "2  https://randomuser.me/api/portraits/med/men/90...     82551   \n",
       "3  https://randomuser.me/api/portraits/med/men/90...     33400   \n",
       "4  https://randomuser.me/api/portraits/med/men/97...     74467   \n",
       "\n",
       "            registered_date           username  \n",
       "0  2003-04-16T21:29:47.084Z   angryelephant289  \n",
       "1  2016-02-14T17:42:51.301Z         bigfish863  \n",
       "2  2010-11-28T01:53:14.494Z    whitemeercat278  \n",
       "3  2011-04-10T05:20:03.503Z   lazybutterfly927  \n",
       "4  2013-06-13T23:02:18.671Z  purpleelephant689  "
      ]
     },
     "execution_count": 10,
     "metadata": {},
     "output_type": "execute_result"
    }
   ],
   "source": [
    "cassandra_options = {\n",
    "    \"keyspace\": \"spark_streams\",\n",
    "    \"table\": \"created_users\"\n",
    "}\n",
    "\n",
    "cass_df = s_conn.read \\\n",
    "    .format(\"org.apache.spark.sql.cassandra\") \\\n",
    "    .options(**cassandra_options) \\\n",
    "    .load()\n",
    "\n",
    "cass_df.limit(5).toPandas()"
   ]
  },
  {
   "cell_type": "code",
   "execution_count": null,
   "metadata": {},
   "outputs": [],
   "source": []
  },
  {
   "cell_type": "code",
   "execution_count": null,
   "metadata": {},
   "outputs": [],
   "source": [
    "cass_df_time = cass_df\\\n",
    ".select('id')\\\n",
    "."
   ]
  }
 ],
 "metadata": {
  "kernelspec": {
   "display_name": "Python 3 (ipykernel)",
   "language": "python",
   "name": "python3"
  },
  "language_info": {
   "codemirror_mode": {
    "name": "ipython",
    "version": 3
   },
   "file_extension": ".py",
   "mimetype": "text/x-python",
   "name": "python",
   "nbconvert_exporter": "python",
   "pygments_lexer": "ipython3",
   "version": "3.10.13"
  }
 },
 "nbformat": 4,
 "nbformat_minor": 4
}
